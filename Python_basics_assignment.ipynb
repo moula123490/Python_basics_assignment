{
  "nbformat": 4,
  "nbformat_minor": 0,
  "metadata": {
    "colab": {
      "provenance": []
    },
    "kernelspec": {
      "name": "python3",
      "display_name": "Python 3"
    },
    "language_info": {
      "name": "python"
    }
  },
  "cells": [
    {
      "cell_type": "markdown",
      "source": [
        "**Therotical Questions**\n",
        "\n",
        "1) What is Python, and why is it popular\n",
        " - Python is a interpreted programming language to communicate with the computers to do specific task and it will execute our code/set of instructions, line by line.\n",
        " - due to simple syntax and easy programming language compared to other programming languages like (java,c++,ruby---). and due to vast number of inbuilt libraries(like panda,numpy,matplotlib--) it is popular accross the world."
      ],
      "metadata": {
        "id": "G4ZPkzUQvLhV"
      }
    },
    {
      "cell_type": "markdown",
      "source": [
        "2) What is an interpreter in Python\n",
        " - In python, interpretor is a program which helps our code to execute line-by-line.and it converts our code into binary language which computer/machines can understand.\n"
      ],
      "metadata": {
        "id": "ceeWfOgZxGB3"
      }
    },
    {
      "cell_type": "markdown",
      "source": [
        "3) What are pre-defined keywords in Python?\n",
        " - there are so many pre-defined keywords are present in python by using this command we can get the keywords which are present in python.\n",
        " help(\"keywords\")\n",
        " examples of some pre-defined keywords which i have known upto basics :\n",
        " if,elif,else,and,or,not,True,False,return,while,break,continue,for etc....."
      ],
      "metadata": {
        "id": "8qZlxzQGyT1x"
      }
    },
    {
      "cell_type": "markdown",
      "source": [
        "4) Can keywords be used as variable names?\n",
        "- No, Keywords cannot be used as variables. if we try to use we will get the invalid syntax."
      ],
      "metadata": {
        "id": "4492iS-8zjrL"
      }
    },
    {
      "cell_type": "markdown",
      "source": [
        "5) What is mutability in Python?\n",
        " - After creation of any object if we are able to change the elements in the object then it is mutable."
      ],
      "metadata": {
        "id": "6a4R0HCH0Hii"
      }
    },
    {
      "cell_type": "markdown",
      "source": [
        "6) Why are lists mutable, but tuples are immutable?\n",
        " - In list we can modify the elements in the list object like add new elemets, remove elements and can change the elements in the list as well\n",
        " - While, in Tuple we cannot modify the elements like lists. hence tuples are immutable."
      ],
      "metadata": {
        "id": "ppqdzApM0rGw"
      }
    },
    {
      "cell_type": "markdown",
      "source": [
        "7)  What is the difference between “==” and “is” operators in Python?\n",
        " - \"==\" is a equality operator it is used to check whether the values in the varibales are same or not.\n",
        " example: a=4,b=4\n",
        "  if a==b:# here in this case a is equal to b hence it will print the id's of both a nd b and both the id's should have to be same.\n",
        "     print(id(a))\n",
        "     print(id(b))\n",
        "\n",
        " - IS operator: it is used to check whether the varaibles are refering the same object are not."
      ],
      "metadata": {
        "id": "PeFEdzir1ms6"
      }
    },
    {
      "cell_type": "markdown",
      "source": [
        "8) What are logical operators in Python?\n",
        " - and,OR,NOT\n",
        "\n",
        "and operator: returns True if both the condition becomes true otherwise FALSE.\n",
        "\n",
        "OR operator: returns True if Either of the condition becomes true otherwise FALSE.\n",
        "\n",
        "Not operator: if condition is true it will return false. and alternatively for False."
      ],
      "metadata": {
        "id": "bVEn5L-H3sYc"
      }
    },
    {
      "cell_type": "markdown",
      "source": [
        "9)  What is type casting in Python?\n",
        " - To change from one datatype to another\n",
        " ex: a=\"23\"\n",
        " it is in string data type but if we want to convert it into int data type just we have to use int(a) then it will convert string into int."
      ],
      "metadata": {
        "id": "z0mJOeJh4zhy"
      }
    },
    {
      "cell_type": "markdown",
      "source": [
        "10) What is the difference between implicit and explicit type casting?\n",
        " - **Implicit type casting** means for a variable we dont need to assign particular data type, python itself automatically assign the data type to the value we assign to the varaible and it will typecast based on the result.\n",
        " ex: a= 3\n",
        "     b=4.6\n",
        "     here python automatically will change the datatype to float without manual intervention.\n",
        "\n",
        "  - **explicit typecasting**: manually we have to use built in functions   like str(),int(),float(),bool() to change the nature of the existing type."
      ],
      "metadata": {
        "id": "a4Xq8f-L58B7"
      }
    },
    {
      "cell_type": "markdown",
      "source": [
        "11) What is the purpose of conditional statements in Python?\n",
        " - it is used in programming languages to control the flow of a program.\n",
        " it's allow us of our code to make the decisions based on the conditions written in the code."
      ],
      "metadata": {
        "id": "dBDZDr0wkYjf"
      }
    },
    {
      "cell_type": "markdown",
      "source": [
        "12) How does the elif statement work?\n",
        " - it's allow us to write the multiple set of conditions. in if statement if condition goes wrong then interpretor will go and check for the elif statements. iif in one elif statement (sequentially) one of the condition is true then rest of the elif statements and inside the block of codes will be ignored."
      ],
      "metadata": {
        "id": "Yb3HisI5lVCK"
      }
    },
    {
      "cell_type": "markdown",
      "source": [
        "13) What is the difference between for and while loops?\n",
        " - Both will have the looping nature, but most common difference is in for loop range is predefined. while in, while loop range is not predefined it will go on looping until the condition becomes true.\n",
        "\n",
        " another major diffrence is in **for loop** if we know the iterations how much our code will take then need to go for for loop.\n",
        "\n",
        " if we dont know the exact iterations then should go with **while loop**."
      ],
      "metadata": {
        "id": "GbCmWg27meYu"
      }
    },
    {
      "cell_type": "markdown",
      "source": [
        "14) Describe a scenario where a while loop is more suitable than a for loop?\n",
        " -\n",
        " If someone told me to calculate the area's of the circle's and they gave me radius values. and they are asking me to get the area of circle is ex:240. so in that case i won't be knowing the exact radius which is needed to get the area 240. here, i dont know the exact iterations that's why we need to go with while loop instead of for loop."
      ],
      "metadata": {
        "id": "LxWcf2hnn8Zo"
      }
    },
    {
      "cell_type": "markdown",
      "source": [
        "**Practical Questions**"
      ],
      "metadata": {
        "id": "OzORHa74s7RE"
      }
    },
    {
      "cell_type": "code",
      "source": [
        "# 1) Write a Python program to print \"Hello, World!\"\n",
        "greet=\"Hello\"\n",
        "greet_1=\" World!\"\n",
        "print(\"{},\" \"{}\".format(greet,greet_1))\n",
        "\n",
        "# or\n",
        "\n",
        "print(\"Hello, World!\")"
      ],
      "metadata": {
        "colab": {
          "base_uri": "https://localhost:8080/"
        },
        "id": "FPVzEkEUs_uW",
        "outputId": "77a9816f-bf87-4606-e6cd-e6bb59bc7dc3"
      },
      "execution_count": null,
      "outputs": [
        {
          "output_type": "stream",
          "name": "stdout",
          "text": [
            "Hello, World!\n",
            "Hello, World!\n"
          ]
        }
      ]
    },
    {
      "cell_type": "code",
      "source": [
        "#2) Write a Python program that displays your name and age?\n",
        "\n",
        "name= \"SHAIK MOULALI\"\n",
        "age = 25\n",
        "print(f\"My name is {name} and I am {age} years old\")"
      ],
      "metadata": {
        "colab": {
          "base_uri": "https://localhost:8080/"
        },
        "id": "3utBQLZqulub",
        "outputId": "f31564a9-c074-4108-9986-eb5bfd572c48"
      },
      "execution_count": null,
      "outputs": [
        {
          "output_type": "stream",
          "name": "stdout",
          "text": [
            "My name is SHAIK MOULALI and I am 25 years old\n"
          ]
        }
      ]
    },
    {
      "cell_type": "code",
      "source": [
        "#3) Write code to print all the pre-defined keywords in Python using the keyword library?\n",
        "\n",
        "import keyword\n",
        "print(keyword.kwlist)"
      ],
      "metadata": {
        "colab": {
          "base_uri": "https://localhost:8080/"
        },
        "id": "-qCto6azvesm",
        "outputId": "adea8e24-fc68-426c-fd32-1b665ec88a16"
      },
      "execution_count": null,
      "outputs": [
        {
          "output_type": "stream",
          "name": "stdout",
          "text": [
            "['False', 'None', 'True', 'and', 'as', 'assert', 'async', 'await', 'break', 'class', 'continue', 'def', 'del', 'elif', 'else', 'except', 'finally', 'for', 'from', 'global', 'if', 'import', 'in', 'is', 'lambda', 'nonlocal', 'not', 'or', 'pass', 'raise', 'return', 'try', 'while', 'with', 'yield']\n"
          ]
        }
      ]
    },
    {
      "cell_type": "code",
      "source": [
        "#4) Write a program that checks if a given word is a Python keyword?\n",
        "\n",
        "import keyword\n",
        "keywd = input(\" enter any keyword in python: \")\n",
        "if keywd in keyword.kwlist:\n",
        "  print(f\"{keywd} is a python keyword\")\n",
        "else:\n",
        "  print(f\"{keywd} is not a python keyword\")"
      ],
      "metadata": {
        "colab": {
          "base_uri": "https://localhost:8080/"
        },
        "id": "niOkYJ_Sv0CA",
        "outputId": "2a3284ae-eb97-4ebb-ebda-723e8c98e32f"
      },
      "execution_count": null,
      "outputs": [
        {
          "output_type": "stream",
          "name": "stdout",
          "text": [
            " enter any keyword in python: break\n",
            "break is a python keyword\n"
          ]
        }
      ]
    },
    {
      "cell_type": "code",
      "source": [
        "#5)  Create a list and tuple in Python, and demonstrate how attempting to change an element works differently for each?\n",
        "\n",
        "A=[1,2,3,\"shaik\",\"moulali\"]\n",
        "B=(1,2,3,\"shaik\")\n",
        "\n",
        "A[4]=\"Ali\"\n",
        "print(A) # for list object we can modify the elements in list due to mutable in nature\n",
        "print(B[2])\n",
        "# Trying to modify an element in the tuple\n",
        "B[3]=\"shaik moulali\" #TypeError: 'tuple' object does not support item assignment it will throw error.\n",
        "\n"
      ],
      "metadata": {
        "colab": {
          "base_uri": "https://localhost:8080/",
          "height": 228
        },
        "id": "7kaD2lgjxM1-",
        "outputId": "84b02a4e-cf12-4fe3-fa66-55165a6abb0f"
      },
      "execution_count": null,
      "outputs": [
        {
          "output_type": "stream",
          "name": "stdout",
          "text": [
            "[1, 2, 3, 'shaik', 'Ali']\n",
            "3\n"
          ]
        },
        {
          "output_type": "error",
          "ename": "TypeError",
          "evalue": "'tuple' object does not support item assignment",
          "traceback": [
            "\u001b[0;31m---------------------------------------------------------------------------\u001b[0m",
            "\u001b[0;31mTypeError\u001b[0m                                 Traceback (most recent call last)",
            "\u001b[0;32m/tmp/ipython-input-22-1264615621.py\u001b[0m in \u001b[0;36m<cell line: 0>\u001b[0;34m()\u001b[0m\n\u001b[1;32m      7\u001b[0m \u001b[0mprint\u001b[0m\u001b[0;34m(\u001b[0m\u001b[0mA\u001b[0m\u001b[0;34m)\u001b[0m\u001b[0;34m\u001b[0m\u001b[0;34m\u001b[0m\u001b[0m\n\u001b[1;32m      8\u001b[0m \u001b[0mprint\u001b[0m\u001b[0;34m(\u001b[0m\u001b[0mB\u001b[0m\u001b[0;34m[\u001b[0m\u001b[0;36m2\u001b[0m\u001b[0;34m]\u001b[0m\u001b[0;34m)\u001b[0m\u001b[0;34m\u001b[0m\u001b[0;34m\u001b[0m\u001b[0m\n\u001b[0;32m----> 9\u001b[0;31m \u001b[0mB\u001b[0m\u001b[0;34m[\u001b[0m\u001b[0;36m3\u001b[0m\u001b[0;34m]\u001b[0m\u001b[0;34m=\u001b[0m\u001b[0;34m\"shaik moulali\"\u001b[0m \u001b[0;31m#TypeError: 'tuple' object does not support item assignment it will throw error.\u001b[0m\u001b[0;34m\u001b[0m\u001b[0;34m\u001b[0m\u001b[0m\n\u001b[0m\u001b[1;32m     10\u001b[0m \u001b[0;34m\u001b[0m\u001b[0m\n",
            "\u001b[0;31mTypeError\u001b[0m: 'tuple' object does not support item assignment"
          ]
        }
      ]
    },
    {
      "cell_type": "code",
      "source": [
        "#6)Write a function to demonstrate the behavior of mutable and immutable arguments?\n",
        "\n",
        "# As functions concept has not covered in python basics hence leaving the question"
      ],
      "metadata": {
        "id": "jtgtjxErzD4C"
      },
      "execution_count": null,
      "outputs": []
    },
    {
      "cell_type": "code",
      "source": [
        "#7) Write a program that performs basic arithmetic operations on two user-input numbers.\n",
        "\n",
        "a=int(input(\"enter the  value 1 :\"))\n",
        "b=int(input(\"enter the value 2 :\"))\n",
        "\n",
        "Addition=a+b\n",
        "print(f\"addition of a and b is {Addition}\")\n",
        "\n",
        "subtraction=a-b\n",
        "print(f\"subtraction of a and b is {subtraction}\")\n",
        "\n",
        "multiplication=a*b\n",
        "print(f\"multiplication of a and b is {multiplication}\")\n",
        "\n",
        "division=float(a/b) #coefficient\n",
        "print(f\"division of a and b is {division}\")\n",
        "\n",
        "division=float(a%b) #remainder\n",
        "print(f\"division of a and b is {division}\")\n",
        "\n"
      ],
      "metadata": {
        "colab": {
          "base_uri": "https://localhost:8080/"
        },
        "id": "HqN9sqG9sm8L",
        "outputId": "00e4a07a-e561-464c-c8a9-e7992256a6ed"
      },
      "execution_count": null,
      "outputs": [
        {
          "output_type": "stream",
          "name": "stdout",
          "text": [
            "enter the  value 1 :2\n",
            "enter the value 2 :2\n",
            "addition of a and b is 4\n",
            "subtraction of a and b is 0\n",
            "multiplication of a and b is 4\n",
            "division of a and b is 1.0\n",
            "division of a and b is 0.0\n"
          ]
        }
      ]
    },
    {
      "cell_type": "code",
      "source": [
        "# 8) Write a program to demonstrate the use of logical operators?\n",
        "\n",
        "a= True\n",
        "b= False\n",
        "c=True\n",
        "if a and c:\n",
        "  print(\"here if statement is executed because true and true is true\")\n",
        "\n",
        "if a or b:\n",
        "  print(\"here if statement is executed because true or false is true\")\n",
        "\n",
        "if not b:\n",
        "  print(\"here if statement is executed because not false is true\")\n",
        "\n",
        "\n",
        "\n",
        "\n"
      ],
      "metadata": {
        "colab": {
          "base_uri": "https://localhost:8080/"
        },
        "id": "rF3oBY_Nu7t-",
        "outputId": "47861a94-7660-4e48-e0c9-803088f0dcb2"
      },
      "execution_count": null,
      "outputs": [
        {
          "output_type": "stream",
          "name": "stdout",
          "text": [
            "here if statement is executed because true and true is true\n"
          ]
        }
      ]
    },
    {
      "cell_type": "code",
      "source": [
        "#9)  Write a Python program to convert user input from string to integer, float, and boolean types?\n",
        "\n",
        "a= input(\"enter any value \")\n",
        "\n",
        "# converting to integer\n",
        "\n",
        "a_integer=int(a)\n",
        "print(a_integer,type(a_integer))\n",
        "\n",
        "# converting to float\n",
        "\n",
        "a_float=float(a)\n",
        "print(a_float,type(a_float))\n",
        "\n",
        "# converting to boolean\n",
        "\n",
        "a_bool=bool(a)\n",
        "print(a_bool,type(a_bool))\n"
      ],
      "metadata": {
        "colab": {
          "base_uri": "https://localhost:8080/"
        },
        "id": "mAMQcyZSwijk",
        "outputId": "8dca31b6-9069-47d0-da1f-20b87fb2786f"
      },
      "execution_count": null,
      "outputs": [
        {
          "output_type": "stream",
          "name": "stdout",
          "text": [
            "enter any value 2\n",
            "2 <class 'int'>\n",
            "2.0 <class 'float'>\n",
            "True <class 'bool'>\n"
          ]
        }
      ]
    },
    {
      "cell_type": "code",
      "source": [
        "# 10) Write code to demonstrate type casting with list elements?\n",
        "\n",
        "A=[1,2,3.5,\"haseeb\",True]#list\n",
        "\n",
        "A_integer=int(A[1])\n",
        "print(\"integer_value is \",A_integer,\" and it's type is \",type(A_integer))\n",
        "\n",
        "A_float=float(A[2])\n",
        "print(\"float_value is \",A_float,\" and it's type is \",type(A_float))\n",
        "\n",
        "A_bool=bool(A[4])\n",
        "print(\"boolean_value is \",A_bool,\" and it's type is \",type(A_bool))\n",
        "\n",
        "A_string=str(A[3])\n",
        "print(\"string_value is \",A_string,\" and it's type is \",type(A_string))"
      ],
      "metadata": {
        "colab": {
          "base_uri": "https://localhost:8080/"
        },
        "id": "m1fS8T-Iyk0D",
        "outputId": "12d81da5-2b28-47ac-e4c6-e796fba3206a"
      },
      "execution_count": null,
      "outputs": [
        {
          "output_type": "stream",
          "name": "stdout",
          "text": [
            "integer_value is  2  and it's type is  <class 'int'>\n",
            "float_value is  3.5  and it's type is  <class 'float'>\n",
            "boolean_value is  True  and it's type is  <class 'bool'>\n",
            "string_value is  haseeb  and it's type is  <class 'str'>\n"
          ]
        }
      ]
    },
    {
      "cell_type": "code",
      "source": [
        "# 11) Write a program that checks if a number is positive, negative, or zero?\n",
        "\n",
        "A=int(input(\"enter any number \"))\n",
        "if A <0:\n",
        "  print(\"Given number is negative number\")\n",
        "elif A >0:\n",
        "  print(\"Given number is positive number\")\n",
        "else:\n",
        "  print(\"Given number is Zero\")\n",
        "\n",
        "\n",
        "\n"
      ],
      "metadata": {
        "id": "IZhpTaHJ3iM-",
        "colab": {
          "base_uri": "https://localhost:8080/"
        },
        "outputId": "aa9d3fea-aba2-4002-a974-c95ee75719bd"
      },
      "execution_count": null,
      "outputs": [
        {
          "output_type": "stream",
          "name": "stdout",
          "text": [
            "enter any number 2\n",
            "Given number is positive number\n"
          ]
        }
      ]
    },
    {
      "cell_type": "code",
      "source": [
        "#12) Write a for loop to print numbers from 1 to 10?\n",
        "\n",
        "A=range(1,11)\n",
        "for i in A:\n",
        "  print(i, end=\"  \")"
      ],
      "metadata": {
        "colab": {
          "base_uri": "https://localhost:8080/"
        },
        "id": "-ds93nRK5zPW",
        "outputId": "8f0e0712-b5fd-4b95-a9df-5a1f830bae78"
      },
      "execution_count": null,
      "outputs": [
        {
          "output_type": "stream",
          "name": "stdout",
          "text": [
            "1  2  3  4  5  6  7  8  9  10  "
          ]
        }
      ]
    },
    {
      "cell_type": "code",
      "source": [
        "# 13) Write a Python program to find the sum of all even numbers between 1 and 50?\n",
        "\n",
        "A=1\n",
        "sum_of_even=0\n",
        "\n",
        "while A<=50:\n",
        "  if A%2==0:\n",
        "    print(A,end=\"\\n\")\n",
        "    sum_of_even+=A\n",
        "  A=A+1\n",
        "print(\"the sum of even numbers between 1 and 50 is \",sum_of_even)\n",
        "\n"
      ],
      "metadata": {
        "colab": {
          "base_uri": "https://localhost:8080/"
        },
        "id": "6CLt1ggg1uWU",
        "outputId": "2ada64f5-b63d-4180-9f82-d6a159ca5d0a"
      },
      "execution_count": null,
      "outputs": [
        {
          "output_type": "stream",
          "name": "stdout",
          "text": [
            "2\n",
            "4\n",
            "6\n",
            "8\n",
            "10\n",
            "12\n",
            "14\n",
            "16\n",
            "18\n",
            "20\n",
            "22\n",
            "24\n",
            "26\n",
            "28\n",
            "30\n",
            "32\n",
            "34\n",
            "36\n",
            "38\n",
            "40\n",
            "42\n",
            "44\n",
            "46\n",
            "48\n",
            "50\n",
            "the sum of even numbers between 1 and 50 is  650\n"
          ]
        }
      ]
    },
    {
      "cell_type": "code",
      "source": [
        "#14) Write a program to reverse a string using a while loop?\n",
        "\n",
        "A=input(\"enter any text \")#shaik\n",
        "index=len(A)-1 #(5-1)=4\n",
        "reversed_string=\"\"\n",
        "while index>=0:\n",
        "  reversed_string=reversed_string+A[index] #(\"\"+\"k\"),(\"k\"+\"i\")-------and so on upto (\"kiahs\")\n",
        "  index=index-1\n",
        "print(\"For the given text the reversed_string is \",reversed_string)\n",
        "\n"
      ],
      "metadata": {
        "colab": {
          "base_uri": "https://localhost:8080/"
        },
        "id": "ANRrgOZ26gyf",
        "outputId": "95f3f884-e7fd-4d6a-ace2-08af321d0348"
      },
      "execution_count": null,
      "outputs": [
        {
          "output_type": "stream",
          "name": "stdout",
          "text": [
            "enter any text shaik\n",
            "For the given text the reversed_string is  kiahs\n"
          ]
        }
      ]
    },
    {
      "cell_type": "code",
      "source": [
        "#15) Write a Python program to calculate the factorial of a number provided by the user using a while loop?\n",
        "\n",
        "A=int(input(\"Enter any number \"))\n",
        "factorial=1\n",
        "# if A is 5 means it should be like 5*4*3*2*1\n",
        "while A>=1:\n",
        "  factorial=factorial*A #5*4*3*2*1\n",
        "  A=A-1\n",
        "print(\"the factorial of the given number is\",factorial)\n",
        "\n"
      ],
      "metadata": {
        "colab": {
          "base_uri": "https://localhost:8080/"
        },
        "id": "SucTyj8N-3Cy",
        "outputId": "6669d547-c8dd-438e-bb79-ea9e06b86397"
      },
      "execution_count": null,
      "outputs": [
        {
          "output_type": "stream",
          "name": "stdout",
          "text": [
            "Enter any number 5\n",
            "the factorial of the given number is 120\n"
          ]
        }
      ]
    }
  ]
}